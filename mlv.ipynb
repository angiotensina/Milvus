{
 "cells": [
  {
   "cell_type": "code",
   "execution_count": 1,
   "metadata": {},
   "outputs": [
    {
     "name": "stdout",
     "output_type": "stream",
     "text": [
      "sk-proj-bLpI4ExJAbHOa2n9R3DaT3BlbkFJBI6fQ7K2ExHIlj8EJPUk\n"
     ]
    }
   ],
   "source": [
    "# -*- coding: utf-8 -*-\n",
    "######################### IMPORTAR LIBRERÍAS #########################\n",
    "import os\n",
    "from dotenv import load_dotenv, find_dotenv\n",
    "from pymilvus import connections, db, CollectionSchema, FieldSchema, DataType, Collection, MilvusClient\n",
    "\n",
    "# import Langchain modules\n",
    "from langchain.agents import tool\n",
    "from langchain_text_splitters import CharacterTextSplitter\n",
    "from langchain_core.prompts import ChatPromptTemplate\n",
    "from langchain_core.runnables import RunnableParallel, RunnablePassthrough\n",
    "from langchain_core.output_parsers import StrOutputParser\n",
    "from langchain_core.documents import Document\n",
    "from langchain_community.document_loaders import TextLoader, PyPDFDirectoryLoader\n",
    "from langchain_openai import ChatOpenAI, OpenAIEmbeddings\n",
    "from langchain_milvus.vectorstores import Milvus\n",
    "\n",
    "######################### VARIABLES DE ENTORNO #########################\n",
    "QUERY = \"¿Qué es el Parkinson?\"\n",
    "\n",
    "LLM_MODEL = \"gpt-4o-mini\"\n",
    "EMBEDDING_MODEL = \"text-embedding-3-large\"\n",
    "DIMENSION_EMBEDDING = 3072\n",
    "\n",
    "INPUT_FILE = \"parkinson_gpt.txt\"\n",
    "BD_NAME = \"Joaquin_DB90\"\n",
    "COLLECTION_NAME = \"Joaquin_Col\"\n",
    "\n",
    "URI_CONNECTION = \"http://localhost:19530\"\n",
    "HOST = \"localhost\"\n",
    "PORT = 19530\n",
    "\n",
    "######################### OBTENER API KEY DE OPENAI #########################\n",
    "# Carga las variables de entorno desde un archivo .env\n",
    "load_dotenv(find_dotenv(), override=True)\n",
    "\n",
    "# Obtiene la API key de OpenAI desde las variables de entorno\n",
    "api_key_openAI = os.environ.get(\"OPENAI_API_KEY\")\n",
    "print(api_key_openAI)"
   ]
  },
  {
   "cell_type": "code",
   "execution_count": 2,
   "metadata": {},
   "outputs": [],
   "source": [
    "\n",
    "######################### CARGAR EL DOCUMENTO #########################\n",
    "\n",
    "# load the document and split it into chunks\n",
    "\n",
    "# loader = PyPDFDirectoryLoader(\"./folder\")\n",
    "loader = TextLoader(INPUT_FILE)\n",
    "documents = loader.load()\n",
    "\n",
    "# split it into chunks\n",
    "text_splitter = CharacterTextSplitter(\n",
    "    separator=\"\\n\\n\", \n",
    "    chunk_overlap=0\n",
    "    )\n",
    "docs = text_splitter.split_documents(documents)\n",
    "\n",
    "######################## ADDING METADATA TO DOCUMENTS ########################\n",
    "# Adding metadata to documents\n",
    "for i, doc in enumerate(docs):\n",
    "    doc.metadata[\"chunk\"] = i\n",
    "    doc.metadata[\"Title\"] = \"Parkinson\"\n",
    "    doc.metadata[\"Capitulo\"] = \"30\"\n",
    "    doc.metadata[\"author\"] = \"Joaquin Chamorro\""
   ]
  },
  {
   "cell_type": "code",
   "execution_count": 3,
   "metadata": {},
   "outputs": [
    {
     "name": "stdout",
     "output_type": "stream",
     "text": [
      "Conectado a la base de datos Joaquin_DB90\n"
     ]
    }
   ],
   "source": [
    "\n",
    "######################### CONECTAR A MILVUS #########################\n",
    "\n",
    "uri = URI_CONNECTION\n",
    "\n",
    "client = MilvusClient(\n",
    "    uri=uri,\n",
    "    token=\"joaquin:chamorro\"\n",
    ")\n",
    "\n",
    "connections.connect(alias=\"default\", host=HOST, port=PORT)\n",
    "\n",
    "######################### CREAR LA BASE DE DATOS EN MILVUS #########################\n",
    "\n",
    "db_name = BD_NAME\n",
    "if db_name not in db.list_database():\n",
    "    db.create_database(db_name, using=\"default\")\n",
    "    db.using_database(db_name, using=\"default\")\n",
    "else:\n",
    "    db.using_database(db_name, using=\"default\")\n",
    "\n",
    "print(f\"Conectado a la base de datos {db_name}\")"
   ]
  },
  {
   "cell_type": "code",
   "execution_count": 4,
   "metadata": {},
   "outputs": [
    {
     "name": "stdout",
     "output_type": "stream",
     "text": [
      "Colección creada\n",
      "Conexión a Milvus-VectorStore establecida.\n",
      "Conectado a colleccion: Joaquin_Col\n",
      "\n"
     ]
    }
   ],
   "source": [
    "\n",
    "######################### CREAR LA COLECCIÓN EN MILVUS #########################\n",
    "collection_name = COLLECTION_NAME\n",
    "dimension = DIMENSION_EMBEDDING  # Especifica la dimensión del vector\n",
    "\n",
    "######################### GUARDAR LOS VECTORES EN MILVUS - VECTORSTORE #########################\n",
    "#vector_store = Milvus()\n",
    "\n",
    "# Crear la función de embeddings de código abierto\n",
    "embeddings = OpenAIEmbeddings(model=\"text-embedding-3-large\", api_key=api_key_openAI)\n",
    "\n",
    "index_params = {\n",
    "    \"index_type\": \"HNSW\",\n",
    "    \"metric_type\": \"COSINE\",\n",
    "    \"params\": {\"M\": 8, \"efConstruction\": 64}\n",
    "}\n",
    "\n",
    "if collection_name not in client.list_collections():\n",
    "    vector_store = Milvus.from_documents(\n",
    "        docs,\n",
    "        embedding=embeddings,\n",
    "        collection_name=collection_name,\n",
    "        connection_args={\"uri\": uri},\n",
    "        primary_field=\"pk\",\n",
    "        text_field=\"text\",\n",
    "        vector_field=\"vector\",\n",
    "        index_params=index_params,\n",
    "        enable_dynamic_field=True,\n",
    "        drop_old=True\n",
    "    )\n",
    "    print(\"Colección creada\")\n",
    "else:\n",
    "    vector_store = Milvus(\n",
    "        embeddings,\n",
    "        collection_name=collection_name,\n",
    "        connection_args={\"uri\": uri},\n",
    "        enable_dynamic_field=True,\n",
    "        primary_field=\"pk\",\n",
    "        text_field=\"text\",\n",
    "        vector_field=\"vector\",\n",
    "        index_params=index_params\n",
    "    )\n",
    "    print(\"Colección ya existe\")\n",
    "\n",
    "print(f\"Conexión a Milvus-VectorStore establecida.\\nConectado a colleccion: {collection_name}\\n\")\n",
    "\n"
   ]
  },
  {
   "cell_type": "code",
   "execution_count": 5,
   "metadata": {},
   "outputs": [],
   "source": [
    "\n",
    "######################### RECUPERAR LOS VECTORES SIMILARES - RETRIEVER #########################\n",
    "\n",
    "query = QUERY\n",
    "\n",
    "model = ChatOpenAI(api_key=api_key_openAI, model=LLM_MODEL)\n",
    "\n",
    "retriever = vector_store.as_retriever(\n",
    "    search_type=\"similarity\", search_kwargs={\"k\": 10, \"filter\": {\"chapter\": \"30\"}})\n",
    "    #search_type=\"mmr\", search_kwargs={\"k\": 10, \"fetch_k\": 50})\n",
    "\n"
   ]
  },
  {
   "cell_type": "code",
   "execution_count": 6,
   "metadata": {},
   "outputs": [
    {
     "name": "stdout",
     "output_type": "stream",
     "text": [
      "La enfermedad de Parkinson (EP) es un trastorno neurodegenerativo progresivo que afecta principalmente la función motora del individuo. Se caracteriza por la degeneración de las neuronas productoras de dopamina en una parte del cerebro llamada sustancia negra, lo que lleva a una disminución de la dopamina disponible en los ganglios basales, un grupo de núcleos responsables del control del movimiento.\n",
      "\n",
      "Los síntomas motores típicos de la enfermedad incluyen:\n",
      "\n",
      "1. **Temblor en reposo**: Un temblor involuntario que ocurre cuando la persona está en reposo.\n",
      "2. **Bradicinesia**: Lentitud en el movimiento y dificultad para iniciar movimientos.\n",
      "3. **Rigidez**: Aumento de la resistencia al movimiento pasivo de las extremidades.\n",
      "4. **Pérdida de reflejos posturales**: Dificultad para mantener una postura erguida, lo que puede resultar en caídas.\n",
      "5. **Postura flexionada**: Tendencia a inclinarse hacia adelante.\n",
      "6. **Congelación**: Sensación de que se \"congela\" al intentar moverse, lo que puede llevar a episodios de inmovilidad temporal.\n",
      "\n",
      "Además de los síntomas motores, la EP también puede presentar una variedad de síntomas no motores, como alteraciones del sueño, depresión, ansiedad, y problemas cognitivos. La enfermedad tiende a progresar lentamente, y aunque no existe una cura, hay tratamientos que pueden ayudar a manejar los síntomas y mejorar la calidad de vida del paciente.\n"
     ]
    }
   ],
   "source": [
    "\n",
    "######################### EJECUTAR EL PIPELINE #########################\n",
    "\n",
    "template =  \"\"\"\n",
    "            - Contesta como un profesional medico: {context}\n",
    "            - Si no se aportan documentos:\n",
    "                - Menciona que no se aportan documentos\n",
    "                - Responde con tu conocimiento\n",
    "            - Question: {question}\n",
    "            \"\"\"\n",
    "prompt = ChatPromptTemplate.from_template(template)\n",
    "output_parser = StrOutputParser()\n",
    "setup_and_retrieval = RunnableParallel(\n",
    "    {\"context\": retriever, \"question\": RunnablePassthrough()})\n",
    "chain = setup_and_retrieval | prompt | model | output_parser\n",
    "respuesta=chain.invoke(query)\n",
    "\n",
    "print(respuesta)\n",
    "\n"
   ]
  }
 ],
 "metadata": {
  "kernelspec": {
   "display_name": "env",
   "language": "python",
   "name": "python3"
  },
  "language_info": {
   "codemirror_mode": {
    "name": "ipython",
    "version": 3
   },
   "file_extension": ".py",
   "mimetype": "text/x-python",
   "name": "python",
   "nbconvert_exporter": "python",
   "pygments_lexer": "ipython3",
   "version": "3.12.4"
  }
 },
 "nbformat": 4,
 "nbformat_minor": 2
}
